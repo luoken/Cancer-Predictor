{
 "cells": [
  {
   "cell_type": "markdown",
   "metadata": {},
   "source": [
    "# Question 1. Predicting Heart Disease"
   ]
  },
  {
   "cell_type": "markdown",
   "metadata": {},
   "source": [
    "### a. Read the dataset file “Hearts_s.csv” (you should download it from CSNS), and assign it to a Pandas DataFrame."
   ]
  },
  {
   "cell_type": "code",
   "execution_count": 6,
   "metadata": {},
   "outputs": [],
   "source": [
    "import pandas as pd\n",
    "\n",
    "file = pd.read_csv('Heart_s.csv')"
   ]
  },
  {
   "cell_type": "markdown",
   "metadata": {},
   "source": [
    "### b. Check out the dataset. As you see, the dataset contains a number of features including both contextual and biological factors (e.g. age, gender, vital signs, ...). The last column “AHD” is the label with “Yes” meaning that a human subject has Heart Disease, and “No” meaning that the subject does not have Heart Disease."
   ]
  },
  {
   "cell_type": "code",
   "execution_count": 7,
   "metadata": {},
   "outputs": [
    {
     "name": "stdout",
     "output_type": "stream",
     "text": [
      "     Age Gender     ChestPain  RestBP  Chol  RestECG  MaxHR  Oldpeak  \\\n",
      "0     63      f       typical     145   233        2    150      2.3   \n",
      "1     67      f  asymptomatic     160   286        2    108      1.5   \n",
      "2     67      f  asymptomatic     120   229        2    129      2.6   \n",
      "3     37      f    nonanginal     130   250        0    187      3.5   \n",
      "4     41      m    nontypical     130   204        2    172      1.4   \n",
      "5     56      f    nontypical     120   236        0    178      0.8   \n",
      "6     62      m  asymptomatic     140   268        2    160      3.6   \n",
      "7     57      m  asymptomatic     120   354        0    163      0.6   \n",
      "8     63      f  asymptomatic     130   254        2    147      1.4   \n",
      "9     53      f  asymptomatic     140   203        2    155      3.1   \n",
      "10    57      f  asymptomatic     140   192        0    148      0.4   \n",
      "11    56      m    nontypical     140   294        2    153      1.3   \n",
      "12    56      f    nonanginal     130   256        2    142      0.6   \n",
      "13    44      f    nontypical     120   263        0    173      0.0   \n",
      "14    52      f    nonanginal     172   199        0    162      0.5   \n",
      "15    57      f    nonanginal     150   168        0    174      1.6   \n",
      "16    48      f    nontypical     110   229        0    168      1.0   \n",
      "17    54      f  asymptomatic     140   239        0    160      1.2   \n",
      "18    48      m    nonanginal     130   275        0    139      0.2   \n",
      "19    49      f    nontypical     130   266        0    171      0.6   \n",
      "20    64      f       typical     110   211        2    144      1.8   \n",
      "21    58      m       typical     150   283        2    162      1.0   \n",
      "22    58      f    nontypical     120   284        2    160      1.8   \n",
      "23    58      f    nonanginal     132   224        2    173      3.2   \n",
      "24    60      f  asymptomatic     130   206        2    132      2.4   \n",
      "25    50      m    nonanginal     120   219        0    158      1.6   \n",
      "26    58      m    nonanginal     120   340        0    172      0.0   \n",
      "27    66      m       typical     150   226        0    114      2.6   \n",
      "28    43      f  asymptomatic     150   247        0    171      1.5   \n",
      "29    40      f  asymptomatic     110   167        2    114      2.0   \n",
      "..   ...    ...           ...     ...   ...      ...    ...      ...   \n",
      "273   71      m  asymptomatic     112   149        0    125      1.6   \n",
      "274   59      f       typical     134   204        0    162      0.8   \n",
      "275   64      f       typical     170   227        2    155      0.6   \n",
      "276   66      m    nonanginal     146   278        2    152      0.0   \n",
      "277   39      m    nonanginal     138   220        0    152      0.0   \n",
      "278   57      f    nontypical     154   232        2    164      0.0   \n",
      "279   58      m  asymptomatic     130   197        0    131      0.6   \n",
      "280   57      f  asymptomatic     110   335        0    143      3.0   \n",
      "281   47      f    nonanginal     130   253        0    179      0.0   \n",
      "282   55      m  asymptomatic     128   205        1    130      2.0   \n",
      "283   35      f    nontypical     122   192        0    174      0.0   \n",
      "284   61      f  asymptomatic     148   203        0    161      0.0   \n",
      "285   58      f  asymptomatic     114   318        1    140      4.4   \n",
      "286   58      m  asymptomatic     170   225        2    146      2.8   \n",
      "287   58      f    nontypical     125   220        0    144      0.4   \n",
      "288   56      f    nontypical     130   221        2    163      0.0   \n",
      "289   56      f    nontypical     120   240        0    169      0.0   \n",
      "290   67      f    nonanginal     152   212        2    150      0.8   \n",
      "291   55      m    nontypical     132   342        0    166      1.2   \n",
      "292   44      f  asymptomatic     120   169        0    144      2.8   \n",
      "293   63      f  asymptomatic     140   187        2    144      4.0   \n",
      "294   63      m  asymptomatic     124   197        0    136      0.0   \n",
      "295   41      f    nontypical     120   157        0    182      0.0   \n",
      "296   59      f  asymptomatic     164   176        2     90      1.0   \n",
      "297   57      m  asymptomatic     140   241        0    123      0.2   \n",
      "298   45      f       typical     110   264        0    132      1.2   \n",
      "299   68      f  asymptomatic     144   193        0    141      3.4   \n",
      "300   57      f  asymptomatic     130   131        0    115      1.2   \n",
      "301   57      m    nontypical     130   236        2    174      0.0   \n",
      "302   38      f    nonanginal     138   175        0    173      0.0   \n",
      "\n",
      "           Thal  AHD  \n",
      "0         fixed   No  \n",
      "1        normal  Yes  \n",
      "2    reversable  Yes  \n",
      "3        normal   No  \n",
      "4        normal   No  \n",
      "5        normal   No  \n",
      "6        normal  Yes  \n",
      "7        normal   No  \n",
      "8    reversable  Yes  \n",
      "9    reversable  Yes  \n",
      "10        fixed   No  \n",
      "11       normal   No  \n",
      "12        fixed  Yes  \n",
      "13   reversable   No  \n",
      "14   reversable   No  \n",
      "15       normal   No  \n",
      "16   reversable  Yes  \n",
      "17       normal   No  \n",
      "18       normal   No  \n",
      "19       normal   No  \n",
      "20       normal   No  \n",
      "21       normal   No  \n",
      "22       normal  Yes  \n",
      "23   reversable  Yes  \n",
      "24   reversable  Yes  \n",
      "25       normal   No  \n",
      "26       normal   No  \n",
      "27       normal   No  \n",
      "28       normal   No  \n",
      "29   reversable  Yes  \n",
      "..          ...  ...  \n",
      "273      normal   No  \n",
      "274      normal  Yes  \n",
      "275  reversable   No  \n",
      "276      normal   No  \n",
      "277      normal   No  \n",
      "278      normal  Yes  \n",
      "279      normal   No  \n",
      "280  reversable  Yes  \n",
      "281      normal   No  \n",
      "282  reversable  Yes  \n",
      "283      normal   No  \n",
      "284  reversable  Yes  \n",
      "285       fixed  Yes  \n",
      "286       fixed  Yes  \n",
      "287  reversable   No  \n",
      "288  reversable   No  \n",
      "289      normal   No  \n",
      "290  reversable  Yes  \n",
      "291      normal   No  \n",
      "292       fixed  Yes  \n",
      "293  reversable  Yes  \n",
      "294      normal  Yes  \n",
      "295      normal   No  \n",
      "296       fixed  Yes  \n",
      "297  reversable  Yes  \n",
      "298  reversable  Yes  \n",
      "299  reversable  Yes  \n",
      "300  reversable  Yes  \n",
      "301      normal  Yes  \n",
      "302      normal   No  \n",
      "\n",
      "[303 rows x 10 columns]\n"
     ]
    }
   ],
   "source": [
    "print(file)"
   ]
  },
  {
   "cell_type": "markdown",
   "metadata": {},
   "source": [
    "### c. As you see, there are at least 3 categorical features in the dataset (Gender, ChestPain, Thal). Let’s ignore these categorical features for now, only keep the numerical features and build your feature matrix and label vector."
   ]
  },
  {
   "cell_type": "code",
   "execution_count": null,
   "metadata": {
    "collapsed": true
   },
   "outputs": [],
   "source": []
  },
  {
   "cell_type": "markdown",
   "metadata": {},
   "source": [
    "### d. Split the dataset into testing and training sets with the following parameters: test_size=0.3, random_state=3."
   ]
  },
  {
   "cell_type": "code",
   "execution_count": null,
   "metadata": {
    "collapsed": true
   },
   "outputs": [],
   "source": []
  },
  {
   "cell_type": "markdown",
   "metadata": {},
   "source": [
    "### e. Use KNN (with k=5), Decision Tree, and Logistic Regression Classifiers to predict Heart Disease based on the training/testing datasets that you built in part (d). Then check, compare, and report the accuracy of these 3 classifiers. Which one is the best? Which one is the worst?"
   ]
  },
  {
   "cell_type": "code",
   "execution_count": null,
   "metadata": {
    "collapsed": true
   },
   "outputs": [],
   "source": []
  },
  {
   "cell_type": "markdown",
   "metadata": {},
   "source": [
    "### f. Now, we want to use the categorical features as well! To this end, we have to perform a feature engineering process called OneHotEncoding for the categorical features. To do this, each categorical feature should be replaced with dummy columns in the feature table (one column for each possible value of a categorical feature), and then encode it in a binary manner such that only one of the dummy columns can take “1” at a time (and zero for the rest). For example, “Gender” can take two values “m” and “f”. Thus, we need to replace this feature (in the feature table) by 2 columns titled “m” and “f”. Wherever we have a male subject, we can put “1” and ”0” in the columns “m” and “f”. Wherever we have a female subject, we can put “0” and ”1” in the columns “m” and “f”. (Hint: you will need 4 columns to encode “ChestPain” and 3 columns to encode “Thal”)."
   ]
  },
  {
   "cell_type": "code",
   "execution_count": null,
   "metadata": {
    "collapsed": true
   },
   "outputs": [],
   "source": []
  },
  {
   "cell_type": "markdown",
   "metadata": {},
   "source": [
    "### g. Repeat parts (d) and (e) with the new dataset that you built in part (f). How does the prediction accuracy change for each method?"
   ]
  },
  {
   "cell_type": "code",
   "execution_count": null,
   "metadata": {
    "collapsed": true
   },
   "outputs": [],
   "source": []
  },
  {
   "cell_type": "markdown",
   "metadata": {},
   "source": [
    "### h. Now, repeat part (e) with the new dataset that you built in part (f), this time using Cross- Validation. Thus, rather than splitting the dataset into testing and training, use 10-fold Cross-Validation (as we learned in Lab4) to evaluate the classification methods and report the final prediction accuracy"
   ]
  },
  {
   "cell_type": "code",
   "execution_count": null,
   "metadata": {
    "collapsed": true
   },
   "outputs": [],
   "source": []
  }
 ],
 "metadata": {
  "kernelspec": {
   "display_name": "Python 3",
   "language": "python",
   "name": "python3"
  },
  "language_info": {
   "codemirror_mode": {
    "name": "ipython",
    "version": 3
   },
   "file_extension": ".py",
   "mimetype": "text/x-python",
   "name": "python",
   "nbconvert_exporter": "python",
   "pygments_lexer": "ipython3",
   "version": "3.5.2"
  }
 },
 "nbformat": 4,
 "nbformat_minor": 2
}
